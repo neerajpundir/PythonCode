{
 "cells": [
  {
   "cell_type": "markdown",
   "source": [
    "Python offers numerous inbuilt libraries to ease our work. Among them pywhatkit is a Python library for sending WhatsApp messages at a certain time, it has several other features too.\r\n",
    "\r\n",
    "Following are some features of pywhatkit module:\r\n",
    "\r\n",
    "1. Send WhatsApp messages.\r\n",
    "2. Play a YouTube video.\r\n",
    "3. Perform a Google Search.\r\n",
    "4. Get information on a particular topic.\r\n",
    "\r\n",
    "The pywhatkit module can also be used for converting text into handwritten text images. "
   ],
   "metadata": {}
  },
  {
   "cell_type": "code",
   "execution_count": 3,
   "source": [
    "import pywhatkit as kit"
   ],
   "outputs": [],
   "metadata": {}
  },
  {
   "cell_type": "code",
   "execution_count": null,
   "source": [
    "kit.sendwhatmsg('+917827393982','testing automatic msg using whatsapp',11,38)"
   ],
   "outputs": [],
   "metadata": {}
  },
  {
   "cell_type": "markdown",
   "source": [
    "kit.sendwhatmsg() is used to send message on whatsApp with following parameters.\r\n",
    " 1. phone_num (required) - Phone number of target with country code\r\n",
    " 2. message (required) - Message that you want to sendwhatmsg\r\n",
    " 3. time_hour (required) - Hours at which you want to send message in 24 hour format\r\n",
    " 4. time_min (required) - Minutes at which you want to send message\r\n",
    " 5. wait_time (optional, val = 20) - Seconds after which the message will be sent after opening the web\r\n",
    " 6. print_wait_time (optional, val = True) - Will print the remaining time if set to true\r\n",
    " 7. tab_close (optional, val = False) - True if you want to close the tab after sending the message"
   ],
   "metadata": {}
  }
 ],
 "metadata": {
  "orig_nbformat": 4,
  "language_info": {
   "name": "python",
   "version": "3.9.5",
   "mimetype": "text/x-python",
   "codemirror_mode": {
    "name": "ipython",
    "version": 3
   },
   "pygments_lexer": "ipython3",
   "nbconvert_exporter": "python",
   "file_extension": ".py"
  },
  "kernelspec": {
   "name": "python3",
   "display_name": "Python 3.9.5 64-bit"
  },
  "interpreter": {
   "hash": "fb1a2f1df6d22449d2cae62b106950886d110ab6615fc8e683080d29fee5490a"
  }
 },
 "nbformat": 4,
 "nbformat_minor": 2
}